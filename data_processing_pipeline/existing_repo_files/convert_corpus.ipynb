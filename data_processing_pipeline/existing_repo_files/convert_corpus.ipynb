{
 "cells": [
  {
   "cell_type": "code",
   "execution_count": 1,
   "id": "fa422381",
   "metadata": {},
   "outputs": [],
   "source": [
    "import json\n",
    "import random\n",
    "import os"
   ]
  },
  {
   "cell_type": "code",
   "execution_count": 4,
   "id": "acea15c9",
   "metadata": {},
   "outputs": [],
   "source": [
    "TEMPLATES = [\n",
    "    'The course with ID {course_id} is titled {course_name}. It is offered in the {semester} semester and taught by {teacher_name}. This is a {course_type} course with {required_prerequisites} as its prerequisite. Students will gain the following outcomes: {learning_outcomes}. The course content covers: {content}.',\n",
    "    '{course_name} (ID: {course_id}) is a {course_type} subject conducted during the {semester} semester. The course is instructed by {teacher_name}, and it {required_prerequisites_description}. Upon completion, students will achieve: {learning_outcomes}. The course includes: {content}.',\n",
    "    'In the {semester} semester, students can take {course_name} (code: {course_id}). It is taught by {teacher_name}, categorized as a {course_type} course. {required_prerequisites_description}. Learning outcomes include: {learning_outcomes}. Topics covered in this course are: {content}.',\n",
    "    '{course_name} is a {course_type} course (ID: {course_id}) available in the {semester} semester. It is led by {teacher_name}. Prerequisites: {required_prerequisites}. The course aims to deliver the following outcomes: {learning_outcomes}. Main content: {content}.',\n",
    "    'Course {course_name} (ID: {course_id}) falls under the {course_type} category and is scheduled for the {semester} semester. The instructor is {teacher_name}. Note: {required_prerequisites_description}. Learning outcomes expected: {learning_outcomes}. The course discusses: {content}.'\n",
    "]\n",
    "\n",
    "def parse_course_info(info_list):\n",
    "    info_dict = {}\n",
    "    for item in info_list:\n",
    "        if \": \" in item:\n",
    "            key, value = item.split(\": \", 1)\n",
    "            info_dict[key.strip()] = value.strip()\n",
    "        else:\n",
    "            print(f\"[!] Warning: Skipped malformed line: {item}\")\n",
    "\n",
    "    prereq = info_dict.get(\"required prerequisites\", \"none\")\n",
    "    if prereq.lower() == \"none\":\n",
    "        description = \"There are no prerequisites for this course\"\n",
    "    else:\n",
    "        description = f\"It requires prior completion of {prereq}\"\n",
    "\n",
    "    info_dict[\"required_prerequisites_description\"] = description\n",
    "    return info_dict\n",
    "\n",
    "def generate_course_descriptions(json_data):\n",
    "    output_list = []\n",
    "    for idx, (course_id, info_list) in enumerate(json_data.items(), start=1):\n",
    "        info = parse_course_info(info_list)\n",
    "        template = random.choice(TEMPLATES)\n",
    "        description = template.format(\n",
    "            course_id=info.get(\"course id\", course_id),\n",
    "            course_name=info.get(\"course name\", \"\"),\n",
    "            semester=info.get(\"semester\", \"\"),\n",
    "            teacher_name=info.get(\"teacher name\", \"\"),\n",
    "            course_type=info.get(\"course type\", \"\"),\n",
    "            required_prerequisites=info.get(\"required prerequisites\", \"\"),\n",
    "            required_prerequisites_description=info.get(\"required_prerequisites_description\", \"\"),\n",
    "            learning_outcomes=info.get(\"learning outcomes\", \"\"),\n",
    "            content=info.get(\"content\", \"\")\n",
    "        )\n",
    "        output_list.append({\n",
    "            \"idx\": idx,\n",
    "            \"title\": course_id,\n",
    "            \"text\": description\n",
    "        })\n",
    "    return output_list\n"
   ]
  },
  {
   "cell_type": "code",
   "execution_count": 10,
   "id": "5e098095",
   "metadata": {},
   "outputs": [
    {
     "name": "stdout",
     "output_type": "stream",
     "text": [
      "Current working directory: d:\\Minh Anh\\app\\data_processing_pipeline\n",
      "Absolute path being checked: d:\\Minh Anh\\app\\data_processing_pipeline\\outputs\n",
      "Folder exists!\n",
      "Files in folder:\n",
      "['DS_output.json']\n",
      "Your DS_corpus.json is done!\n"
     ]
    }
   ],
   "source": [
    "if __name__ == \"__main__\":\n",
    "    directory = \"./outputs\"\n",
    "    abs_path = os.path.abspath(directory)\n",
    "    \n",
    "    print(f\"Current working directory: {os.getcwd()}\")\n",
    "    print(f\"Absolute path being checked: {abs_path}\")\n",
    "\n",
    "    if not os.path.exists(directory):\n",
    "        print(\"Folder does not exist!\")\n",
    "    else:\n",
    "        print(\"Folder exists!\")\n",
    "        print(\"Files in folder:\")\n",
    "        print(os.listdir(directory))\n",
    "\n",
    "        for filename in os.listdir(directory):\n",
    "            if filename.endswith(\"_output.json\"):\n",
    "                module_name = filename.replace(\"_output.json\", \"\")\n",
    "                input_path = os.path.join(directory, filename)\n",
    "\n",
    "                with open(input_path, \"r\", encoding=\"utf-8\") as f:\n",
    "                    course_data = json.load(f)\n",
    "\n",
    "                output = generate_course_descriptions(course_data)\n",
    "\n",
    "                output_path = os.path.join(directory, f\"{module_name}_corpus.json\")\n",
    "                with open(output_path, \"w\", encoding=\"utf-8\") as f:\n",
    "                    json.dump(output, f, indent=4, ensure_ascii=False)\n",
    "\n",
    "                print(f\"Your {module_name}_corpus.json is done!\")"
   ]
  }
 ],
 "metadata": {
  "kernelspec": {
   "display_name": "Python 3",
   "language": "python",
   "name": "python3"
  },
  "language_info": {
   "codemirror_mode": {
    "name": "ipython",
    "version": 3
   },
   "file_extension": ".py",
   "mimetype": "text/x-python",
   "name": "python",
   "nbconvert_exporter": "python",
   "pygments_lexer": "ipython3",
   "version": "3.12.5"
  }
 },
 "nbformat": 4,
 "nbformat_minor": 5
}
