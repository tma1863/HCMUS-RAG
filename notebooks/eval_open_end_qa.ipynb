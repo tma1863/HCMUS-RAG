{
 "cells": [
  {
   "cell_type": "code",
   "execution_count": 1,
   "id": "f6d5f0b9",
   "metadata": {},
   "outputs": [
    {
     "name": "stderr",
     "output_type": "stream",
     "text": [
      "/Users/taindp/miniconda3/envs/hipporag/lib/python3.10/site-packages/tqdm/auto.py:21: TqdmWarning: IProgress not found. Please update jupyter and ipywidgets. See https://ipywidgets.readthedocs.io/en/stable/user_install.html\n",
      "  from .autonotebook import tqdm as notebook_tqdm\n",
      "[nltk_data] Downloading package wordnet to /Users/taindp/nltk_data...\n",
      "[nltk_data]   Package wordnet is already up-to-date!\n",
      "[nltk_data] Downloading package punkt_tab to\n",
      "[nltk_data]     /Users/taindp/nltk_data...\n",
      "[nltk_data]   Package punkt_tab is already up-to-date!\n",
      "[nltk_data] Downloading package omw-1.4 to /Users/taindp/nltk_data...\n",
      "[nltk_data]   Package omw-1.4 is already up-to-date!\n"
     ]
    }
   ],
   "source": [
    "import os\n",
    "from typing import List\n",
    "import json\n",
    "import argparse\n",
    "import logging\n",
    "import pandas as pd\n",
    "from tqdm import tqdm\n",
    "import evaluate\n",
    "import shutil\n",
    "\n",
    "# Load the BLEU and ROUGE metrics\n",
    "bleu_metric = evaluate.load(\"bleu\")\n",
    "rouge_metric = evaluate.load(\"rouge\")\n",
    "meteor_metric = evaluate.load('meteor')"
   ]
  },
  {
   "cell_type": "code",
   "execution_count": 2,
   "id": "24239038",
   "metadata": {},
   "outputs": [],
   "source": [
    "import sys\n",
    "sys.path.append(\"../\")"
   ]
  },
  {
   "cell_type": "code",
   "execution_count": 3,
   "id": "821b407b",
   "metadata": {},
   "outputs": [
    {
     "name": "stderr",
     "output_type": "stream",
     "text": [
      "2025-05-20 16:11:18,770\tINFO util.py:154 -- Missing packages: ['ipywidgets']. Run `pip install -U ipywidgets`, then restart the notebook server for rich notebook output.\n"
     ]
    },
    {
     "data": {
      "text/plain": [
       "True"
      ]
     },
     "execution_count": 3,
     "metadata": {},
     "output_type": "execute_result"
    }
   ],
   "source": [
    "from src.hipporag import HippoRAG\n",
    "from dotenv import load_dotenv\n",
    "load_dotenv()"
   ]
  },
  {
   "cell_type": "code",
   "execution_count": null,
   "id": "2b2161b9",
   "metadata": {},
   "outputs": [
    {
     "name": "stderr",
     "output_type": "stream",
     "text": [
      "Batch Encoding: 96it [00:10,  8.87it/s]                        \n",
      "NER: 100%|██████████| 90/90 [00:20<00:00,  4.32it/s, total_prompt_tokens=42395, total_completion_tokens=11919, num_cache_hit=0]\n",
      "Extracting triples: 100%|██████████| 90/90 [01:11<00:00,  1.26it/s, total_prompt_tokens=79295, total_completion_tokens=38700, num_cache_hit=0]\n",
      "Batch Encoding: 1584it [00:05, 310.50it/s]                          \n",
      "Batch Encoding: 1984it [00:10, 197.60it/s]                          \n",
      "90it [00:00, 2110.14it/s]\n",
      "90it [00:00, 5011.91it/s]\n",
      "KNN for Queries: 100%|██████████| 2/2 [00:00<00:00,  3.84it/s]\n",
      "100%|██████████| 1578/1578 [00:00<00:00, 51375.57it/s]\n"
     ]
    },
    {
     "name": "stdout",
     "output_type": "stream",
     "text": [
      "{'num_phrase_nodes': 1578, 'num_passage_nodes': 90, 'num_total_nodes': 1668, 'num_extracted_triples': 1971, 'num_triples_with_passage_node': 2111, 'num_synonymy_triples': 5508, 'num_total_triples': 9590}\n",
      "major: MCS | style: None | Graph info: {'num_phrase_nodes': 1578, 'num_passage_nodes': 90, 'num_total_nodes': 1668, 'num_extracted_triples': 1971, 'num_triples_with_passage_node': 2111, 'num_synonymy_triples': 5508, 'num_total_triples': 9590}\n"
     ]
    },
    {
     "name": "stderr",
     "output_type": "stream",
     "text": [
      "Batch Encoding: 32it [00:00, 111.79it/s]              \n",
      "Batch Encoding: 32it [00:00, 178.33it/s]              \n",
      "Retrieving: 100%|██████████| 25/25 [00:56<00:00,  2.26s/it]\n",
      "WARNING:src.hipporag.evaluation.retrieval_eval:Length of retrieved docs (90) is smaller than largest topk for recall score (200)\n",
      "WARNING:src.hipporag.evaluation.retrieval_eval:Length of retrieved docs (90) is smaller than largest topk for recall score (200)\n",
      "WARNING:src.hipporag.evaluation.retrieval_eval:Length of retrieved docs (90) is smaller than largest topk for recall score (200)\n",
      "WARNING:src.hipporag.evaluation.retrieval_eval:Length of retrieved docs (90) is smaller than largest topk for recall score (200)\n",
      "WARNING:src.hipporag.evaluation.retrieval_eval:Length of retrieved docs (90) is smaller than largest topk for recall score (200)\n",
      "WARNING:src.hipporag.evaluation.retrieval_eval:Length of retrieved docs (90) is smaller than largest topk for recall score (200)\n",
      "WARNING:src.hipporag.evaluation.retrieval_eval:Length of retrieved docs (90) is smaller than largest topk for recall score (200)\n",
      "WARNING:src.hipporag.evaluation.retrieval_eval:Length of retrieved docs (90) is smaller than largest topk for recall score (200)\n",
      "WARNING:src.hipporag.evaluation.retrieval_eval:Length of retrieved docs (90) is smaller than largest topk for recall score (200)\n",
      "WARNING:src.hipporag.evaluation.retrieval_eval:Length of retrieved docs (90) is smaller than largest topk for recall score (200)\n",
      "WARNING:src.hipporag.evaluation.retrieval_eval:Length of retrieved docs (90) is smaller than largest topk for recall score (200)\n",
      "WARNING:src.hipporag.evaluation.retrieval_eval:Length of retrieved docs (90) is smaller than largest topk for recall score (200)\n",
      "WARNING:src.hipporag.evaluation.retrieval_eval:Length of retrieved docs (90) is smaller than largest topk for recall score (200)\n",
      "WARNING:src.hipporag.evaluation.retrieval_eval:Length of retrieved docs (90) is smaller than largest topk for recall score (200)\n",
      "WARNING:src.hipporag.evaluation.retrieval_eval:Length of retrieved docs (90) is smaller than largest topk for recall score (200)\n",
      "WARNING:src.hipporag.evaluation.retrieval_eval:Length of retrieved docs (90) is smaller than largest topk for recall score (200)\n",
      "WARNING:src.hipporag.evaluation.retrieval_eval:Length of retrieved docs (90) is smaller than largest topk for recall score (200)\n",
      "WARNING:src.hipporag.evaluation.retrieval_eval:Length of retrieved docs (90) is smaller than largest topk for recall score (200)\n",
      "WARNING:src.hipporag.evaluation.retrieval_eval:Length of retrieved docs (90) is smaller than largest topk for recall score (200)\n",
      "WARNING:src.hipporag.evaluation.retrieval_eval:Length of retrieved docs (90) is smaller than largest topk for recall score (200)\n",
      "WARNING:src.hipporag.evaluation.retrieval_eval:Length of retrieved docs (90) is smaller than largest topk for recall score (200)\n",
      "WARNING:src.hipporag.evaluation.retrieval_eval:Length of retrieved docs (90) is smaller than largest topk for recall score (200)\n",
      "WARNING:src.hipporag.evaluation.retrieval_eval:Length of retrieved docs (90) is smaller than largest topk for recall score (200)\n",
      "WARNING:src.hipporag.evaluation.retrieval_eval:Length of retrieved docs (90) is smaller than largest topk for recall score (200)\n",
      "WARNING:src.hipporag.evaluation.retrieval_eval:Length of retrieved docs (90) is smaller than largest topk for recall score (200)\n",
      "Collecting QA prompts: 100%|██████████| 25/25 [00:00<00:00, 8143.65it/s]\n",
      "QA Reading: 100%|██████████| 25/25 [02:11<00:00,  5.27s/it]\n",
      "Extraction Answers from LLM Response: 25it [00:00, 18601.67it/s]\n"
     ]
    },
    {
     "name": "stdout",
     "output_type": "stream",
     "text": [
      "major: MCS | style: None | Overall retrieval results: {'Recall@1': 0.28, 'Recall@2': 0.52, 'Recall@5': 0.88, 'Recall@10': 0.92, 'Recall@20': 0.92, 'Recall@30': 0.92, 'Recall@50': 0.92, 'Recall@100': 0.92, 'Recall@150': 0.92, 'Recall@200': 0.92}\n",
      "major: MCS | style: None | Open-end results: {'bleu': '10.14', 'meteor': '30.87', 'rougeL': '35.85'}\n"
     ]
    }
   ],
   "source": [
    "major = \"MCS\"\n",
    "# dataset_style = \"hcmus\"\n",
    "dataset_style = None\n",
    "save_dir = 'outputs/openai_test'  # Define save directory for HippoRAG objects (each LLM/Embedding model combination will create a new subdirectory)\n",
    "llm_model_name = 'gpt-4o-mini'  # Any OpenAI model name\n",
    "# embedding_model_name = 'text-embedding-3-small'  # Embedding model name (NV-Embed, GritLM or Contriever for now)\n",
    "# embedding_model_name = \"nvidia/NV-Embed-v2\"\n",
    "# embedding_model_name = \"GritLM/GritLM-7B\"  # Embedding model name (NV-Embed, GritLM or Contriever for now)\n",
    "embedding_model_name = \"facebook/contriever\"\n",
    "\n",
    "shutil.rmtree(\"outputs\", ignore_errors=True)\n",
    "\n",
    "corpus_path = f\"../data/courses_{major}.json\"\n",
    "with open(corpus_path, \"r\") as f:\n",
    "    corpus = json.load(f)\n",
    "\n",
    "docs = [f\"{doc['title']}\\n{doc['text']}\" for doc in corpus]\n",
    "\n",
    "# Startup a HippoRAG instance\n",
    "hipporag = HippoRAG(save_dir=save_dir,\n",
    "                    llm_model_name=llm_model_name,\n",
    "                    embedding_model_name=embedding_model_name,\n",
    "                    dataset=dataset_style ## HippoRAG base\n",
    "                    )\n",
    "\n",
    "# Run indexing\n",
    "hipporag.index(docs=docs)\n",
    "print(f\"major: {major} | style: {dataset_style} | Graph info: {hipporag.get_graph_info()}\")\n",
    "\n",
    "open_end_qa_ds = pd.DataFrame(json.load(open(f\"../data/{major}_opened_end.json\", \"r\")))\n",
    "queries = open_end_qa_ds[\"question\"].tolist()\n",
    "references = open_end_qa_ds[\"answer\"].tolist()\n",
    "gold_docs = [[f\"{item[0]['title']}\\n{item[0]['text']}\"] for item in open_end_qa_ds[\"paragraphs\"].tolist()]\n",
    "\n",
    "# queries_solutions, all_response_message, all_metadata = hipporag.rag_qa(queries=queries)\n",
    "queries_solutions, all_response_message, all_metadata, overall_retrieval_result, overall_qa_results = hipporag.rag_qa(\n",
    "    queries=queries,\n",
    "    gold_docs=gold_docs,\n",
    "    gold_answers=references\n",
    ")\n",
    "print(f\"major: {major} | style: {dataset_style} | Overall retrieval results: {overall_retrieval_result}\")\n",
    "predictions = [item.split(\"Answer: \")[1] for item in all_response_message]\n",
    "\n",
    "bleu_results = bleu_metric.compute(predictions=predictions, references=references)\n",
    "\n",
    "rouge_results = rouge_metric.compute(predictions=predictions, references=references)\n",
    "\n",
    "meteor_results = meteor_metric.compute(predictions=predictions, references=references)\n",
    "\n",
    "open_end_results = {\n",
    "    \"bleu\": f\"{bleu_results['bleu'] * 100:.2f}\",\n",
    "    \"meteor\": f\"{meteor_results['meteor'] * 100:.2f}\",\n",
    "    \"rougeL\": f\"{rouge_results['rougeL'] * 100:.2f}\",\n",
    "}\n",
    "print(f\"major: {major} | style: {dataset_style} | Open-end results: {open_end_results}\")"
   ]
  }
 ],
 "metadata": {
  "kernelspec": {
   "display_name": "hipporag",
   "language": "python",
   "name": "python3"
  },
  "language_info": {
   "codemirror_mode": {
    "name": "ipython",
    "version": 3
   },
   "file_extension": ".py",
   "mimetype": "text/x-python",
   "name": "python",
   "nbconvert_exporter": "python",
   "pygments_lexer": "ipython3",
   "version": "3.10.16"
  }
 },
 "nbformat": 4,
 "nbformat_minor": 5
}
