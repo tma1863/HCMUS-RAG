{
 "cells": [
  {
   "cell_type": "code",
   "execution_count": 1,
   "id": "f6d5f0b9",
   "metadata": {},
   "outputs": [
    {
     "name": "stderr",
     "output_type": "stream",
     "text": [
      "/home/dptn1/rag/lib/python3.10/site-packages/tqdm/auto.py:21: TqdmWarning: IProgress not found. Please update jupyter and ipywidgets. See https://ipywidgets.readthedocs.io/en/stable/user_install.html\n",
      "  from .autonotebook import tqdm as notebook_tqdm\n",
      "[nltk_data] Downloading package wordnet to /home/dptn1/nltk_data...\n",
      "[nltk_data]   Package wordnet is already up-to-date!\n",
      "[nltk_data] Downloading package punkt_tab to /home/dptn1/nltk_data...\n",
      "[nltk_data]   Package punkt_tab is already up-to-date!\n",
      "[nltk_data] Downloading package omw-1.4 to /home/dptn1/nltk_data...\n",
      "[nltk_data]   Package omw-1.4 is already up-to-date!\n"
     ]
    }
   ],
   "source": [
    "import os\n",
    "from typing import List\n",
    "import json\n",
    "import argparse\n",
    "import logging\n",
    "import pandas as pd\n",
    "from tqdm import tqdm\n",
    "import evaluate\n",
    "import shutil\n",
    "\n",
    "# Load the BLEU and ROUGE metrics\n",
    "bleu_metric = evaluate.load(\"bleu\")\n",
    "rouge_metric = evaluate.load(\"rouge\")\n",
    "meteor_metric = evaluate.load('meteor')"
   ]
  },
  {
   "cell_type": "code",
   "execution_count": 2,
   "id": "24239038",
   "metadata": {},
   "outputs": [],
   "source": [
    "import sys\n",
    "sys.path.append(\"../\")"
   ]
  },
  {
   "cell_type": "code",
   "execution_count": 3,
   "id": "821b407b",
   "metadata": {},
   "outputs": [
    {
     "name": "stderr",
     "output_type": "stream",
     "text": [
      "2025-05-20 21:00:21,459\tINFO util.py:154 -- Missing packages: ['ipywidgets']. Run `pip install -U ipywidgets`, then restart the notebook server for rich notebook output.\n"
     ]
    },
    {
     "data": {
      "text/plain": [
       "True"
      ]
     },
     "execution_count": 3,
     "metadata": {},
     "output_type": "execute_result"
    }
   ],
   "source": [
    "from src.hipporag import HippoRAG\n",
    "from dotenv import load_dotenv\n",
    "load_dotenv()"
   ]
  },
  {
   "cell_type": "code",
   "execution_count": 4,
   "id": "2b2161b9",
   "metadata": {},
   "outputs": [
    {
     "name": "stderr",
     "output_type": "stream",
     "text": [
      "Loading checkpoint shards: 100%|██████████| 3/3 [00:06<00:00,  2.14s/it]\n"
     ]
    },
    {
     "name": "stdout",
     "output_type": "stream",
     "text": [
      "Created GritLM: torch.bfloat16 dtype, mean pool, unified mode, bbcc attn\n"
     ]
    },
    {
     "name": "stderr",
     "output_type": "stream",
     "text": [
      "NER: 100%|██████████| 75/75 [00:08<00:00,  8.55it/s, total_prompt_tokens=35514, total_completion_tokens=9617, num_cache_hit=0]\n",
      "Extracting triples: 100%|██████████| 75/75 [00:22<00:00,  3.33it/s, total_prompt_tokens=66063, total_completion_tokens=28394, num_cache_hit=0]\n",
      "Batches: 100%|██████████| 334/334 [00:10<00:00, 30.80it/s]\n",
      "Batches: 100%|██████████| 410/410 [00:14<00:00, 28.98it/s]\n",
      "75it [00:00, 11449.00it/s]\n",
      "75it [00:00, 33479.44it/s]\n",
      "KNN for Queries: 100%|██████████| 2/2 [00:00<00:00,  4.12it/s]\n",
      "100%|██████████| 1333/1333 [00:00<00:00, 49414.10it/s]\n"
     ]
    },
    {
     "name": "stdout",
     "output_type": "stream",
     "text": [
      "{'num_phrase_nodes': 1333, 'num_passage_nodes': 75, 'num_total_nodes': 1408, 'num_extracted_triples': 1638, 'num_triples_with_passage_node': 1774, 'num_synonymy_triples': 11683, 'num_total_triples': 15095}\n",
      "major: DS | style: None | Graph info: {'num_phrase_nodes': 1333, 'num_passage_nodes': 75, 'num_total_nodes': 1408, 'num_extracted_triples': 1638, 'num_triples_with_passage_node': 1774, 'num_synonymy_triples': 11683, 'num_total_triples': 15095}\n"
     ]
    },
    {
     "name": "stderr",
     "output_type": "stream",
     "text": [
      "Retrieving: 100%|██████████| 25/25 [00:52<00:00,  2.09s/it]\n",
      "Collecting QA prompts: 100%|██████████| 25/25 [00:00<00:00, 14352.26it/s]\n",
      "QA Reading: 100%|██████████| 25/25 [02:04<00:00,  4.98s/it]\n",
      "Extraction Answers from LLM Response: 25it [00:00, 133576.56it/s]\n"
     ]
    },
    {
     "name": "stdout",
     "output_type": "stream",
     "text": [
      "major: DS | style: None | Overall retrieval results: {'Recall@1': 0.44, 'Recall@2': 0.56, 'Recall@5': 0.72}\n",
      "major: DS | style: None | Open-end results: {'bleu': '5.48', 'meteor': '25.19', 'rougeL': '33.31'}\n"
     ]
    }
   ],
   "source": [
    "# major = \"MCS\"\n",
    "major = \"DS\"\n",
    "# dataset_style = \"hcmus\"\n",
    "dataset_style = None\n",
    "save_dir = 'outputs/openai_test'  # Define save directory for HippoRAG objects (each LLM/Embedding model combination will create a new subdirectory)\n",
    "llm_model_name = 'gpt-4o-mini'  # Any OpenAI model name\n",
    "# embedding_model_name = 'text-embedding-3-small'  # Embedding model name (NV-Embed, GritLM or Contriever for now)\n",
    "# embedding_model_name = \"nvidia/NV-Embed-v2\"\n",
    "embedding_model_name = \"GritLM/GritLM-7B\"  # Embedding model name (NV-Embed, GritLM or Contriever for now)\n",
    "# embedding_model_name = \"facebook/contriever\"\n",
    "\n",
    "shutil.rmtree(\"outputs\", ignore_errors=True)\n",
    "\n",
    "corpus_path = f\"../data/courses_{major}.json\"\n",
    "with open(corpus_path, \"r\") as f:\n",
    "    corpus = json.load(f)\n",
    "\n",
    "docs = [f\"{doc['title']}\\n{doc['text']}\" for doc in corpus]\n",
    "\n",
    "# Startup a HippoRAG instance\n",
    "hipporag = HippoRAG(save_dir=save_dir,\n",
    "                    llm_model_name=llm_model_name,\n",
    "                    embedding_model_name=embedding_model_name,\n",
    "                    dataset=dataset_style, ## HippoRAG base\n",
    "                    embedding_batch_size=4\n",
    "                    )\n",
    "\n",
    "# Run indexing\n",
    "hipporag.index(docs=docs)\n",
    "print(f\"major: {major} | style: {dataset_style} | Graph info: {hipporag.get_graph_info()}\")\n",
    "\n",
    "open_end_qa_ds = pd.DataFrame(json.load(open(f\"../data/{major}_opened_end.json\", \"r\")))\n",
    "queries = open_end_qa_ds[\"question\"].tolist()\n",
    "references = open_end_qa_ds[\"answer\"].tolist()\n",
    "gold_docs = [[f\"{item[0]['title']}\\n{item[0]['text']}\"] for item in open_end_qa_ds[\"paragraphs\"].tolist()]\n",
    "\n",
    "# queries_solutions, all_response_message, all_metadata = hipporag.rag_qa(queries=queries)\n",
    "queries_solutions, all_response_message, all_metadata, overall_retrieval_result, overall_qa_results = hipporag.rag_qa(\n",
    "    queries=queries,\n",
    "    gold_docs=gold_docs,\n",
    "    gold_answers=references\n",
    ")\n",
    "print(f\"major: {major} | style: {dataset_style} | Overall retrieval results: {overall_retrieval_result}\")\n",
    "predictions = [item.split(\"Answer: \")[1] for item in all_response_message]\n",
    "\n",
    "bleu_results = bleu_metric.compute(predictions=predictions, references=references)\n",
    "\n",
    "rouge_results = rouge_metric.compute(predictions=predictions, references=references)\n",
    "\n",
    "meteor_results = meteor_metric.compute(predictions=predictions, references=references)\n",
    "\n",
    "open_end_results = {\n",
    "    \"bleu\": f\"{bleu_results['bleu'] * 100:.2f}\",\n",
    "    \"meteor\": f\"{meteor_results['meteor'] * 100:.2f}\",\n",
    "    \"rougeL\": f\"{rouge_results['rougeL'] * 100:.2f}\",\n",
    "}\n",
    "print(f\"major: {major} | style: {dataset_style} | Open-end results: {open_end_results}\")"
   ]
  }
 ],
 "metadata": {
  "kernelspec": {
   "display_name": "rag",
   "language": "python",
   "name": "rag"
  },
  "language_info": {
   "codemirror_mode": {
    "name": "ipython",
    "version": 3
   },
   "file_extension": ".py",
   "mimetype": "text/x-python",
   "name": "python",
   "nbconvert_exporter": "python",
   "pygments_lexer": "ipython3",
   "version": "3.10.12"
  }
 },
 "nbformat": 4,
 "nbformat_minor": 5
}
