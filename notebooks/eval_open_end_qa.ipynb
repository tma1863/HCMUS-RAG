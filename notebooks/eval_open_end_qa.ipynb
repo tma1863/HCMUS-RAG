{
 "cells": [
  {
   "cell_type": "code",
   "execution_count": 1,
   "id": "fbd578ea",
   "metadata": {},
   "outputs": [],
   "source": [
    "%load_ext autoreload\n",
    "%autoreload 2"
   ]
  },
  {
   "cell_type": "code",
   "execution_count": 2,
   "id": "f6d5f0b9",
   "metadata": {},
   "outputs": [
    {
     "name": "stderr",
     "output_type": "stream",
     "text": [
      "/home/dptn1/rag/lib/python3.10/site-packages/tqdm/auto.py:21: TqdmWarning: IProgress not found. Please update jupyter and ipywidgets. See https://ipywidgets.readthedocs.io/en/stable/user_install.html\n",
      "  from .autonotebook import tqdm as notebook_tqdm\n",
      "[nltk_data] Downloading package wordnet to /home/dptn1/nltk_data...\n",
      "[nltk_data]   Package wordnet is already up-to-date!\n",
      "[nltk_data] Downloading package punkt_tab to /home/dptn1/nltk_data...\n",
      "[nltk_data]   Package punkt_tab is already up-to-date!\n",
      "[nltk_data] Downloading package omw-1.4 to /home/dptn1/nltk_data...\n",
      "[nltk_data]   Package omw-1.4 is already up-to-date!\n"
     ]
    }
   ],
   "source": [
    "import os\n",
    "from typing import List\n",
    "import json\n",
    "import argparse\n",
    "import logging\n",
    "import pandas as pd\n",
    "from tqdm import tqdm\n",
    "import evaluate\n",
    "import shutil\n",
    "\n",
    "# Load the BLEU and ROUGE metrics\n",
    "bleu_metric = evaluate.load(\"bleu\")\n",
    "rouge_metric = evaluate.load(\"rouge\")\n",
    "meteor_metric = evaluate.load('meteor')"
   ]
  },
  {
   "cell_type": "code",
   "execution_count": 3,
   "id": "24239038",
   "metadata": {},
   "outputs": [],
   "source": [
    "import sys\n",
    "sys.path.append(\"../\")"
   ]
  },
  {
   "cell_type": "code",
   "execution_count": 4,
   "id": "821b407b",
   "metadata": {},
   "outputs": [
    {
     "name": "stderr",
     "output_type": "stream",
     "text": [
      "2025-05-22 14:34:45,722\tINFO util.py:154 -- Missing packages: ['ipywidgets']. Run `pip install -U ipywidgets`, then restart the notebook server for rich notebook output.\n"
     ]
    },
    {
     "data": {
      "text/plain": [
       "True"
      ]
     },
     "execution_count": 4,
     "metadata": {},
     "output_type": "execute_result"
    }
   ],
   "source": [
    "from src.hipporag import HippoRAG\n",
    "from dotenv import load_dotenv\n",
    "load_dotenv()"
   ]
  },
  {
   "cell_type": "code",
   "execution_count": null,
   "id": "2b2161b9",
   "metadata": {},
   "outputs": [
    {
     "name": "stderr",
     "output_type": "stream",
     "text": [
      "A new version of the following files was downloaded from https://huggingface.co/GritLM/GritLM-7B:\n",
      "- modeling_gritlm7b.py\n",
      ". Make sure to double-check they do not contain any added malicious code. To avoid downloading new versions of the code file, you can pin a revision.\n",
      "Downloading shards: 100%|██████████| 3/3 [02:18<00:00, 46.30s/it]\n",
      "Loading checkpoint shards: 100%|██████████| 3/3 [00:06<00:00,  2.32s/it]\n",
      "WARNING:accelerate.big_modeling:Some parameters are on the meta device because they were offloaded to the cpu.\n"
     ]
    },
    {
     "name": "stdout",
     "output_type": "stream",
     "text": [
      "Created GritLM: torch.bfloat16 dtype, mean pool, unified mode, bbcc attn\n"
     ]
    },
    {
     "name": "stderr",
     "output_type": "stream",
     "text": [
      "NER: 100%|██████████| 94/94 [00:12<00:00,  7.83it/s, total_prompt_tokens=43122, total_completion_tokens=11841, num_cache_hit=0]\n",
      "Extracting triples: 100%|██████████| 94/94 [00:35<00:00,  2.64it/s, total_prompt_tokens=81122, total_completion_tokens=36014, num_cache_hit=0]\n",
      "Batches: 100%|██████████| 395/395 [05:01<00:00,  1.31it/s]\n",
      "Batches: 100%|██████████| 492/492 [06:13<00:00,  1.32it/s]\n",
      "94it [00:00, 12358.23it/s]\n",
      "94it [00:00, 35718.84it/s]\n",
      "KNN for Queries: 100%|██████████| 2/2 [00:00<00:00,  4.35it/s]\n",
      "100%|██████████| 1580/1580 [00:00<00:00, 37116.90it/s]\n"
     ]
    },
    {
     "name": "stdout",
     "output_type": "stream",
     "text": [
      "{'num_phrase_nodes': 1580, 'num_passage_nodes': 94, 'num_total_nodes': 1674, 'num_extracted_triples': 1968, 'num_triples_with_passage_node': 2107, 'num_synonymy_triples': 16185, 'num_total_triples': 20260}\n",
      "major: AM | style: None | Graph info: {'num_phrase_nodes': 1580, 'num_passage_nodes': 94, 'num_total_nodes': 1674, 'num_extracted_triples': 1968, 'num_triples_with_passage_node': 2107, 'num_synonymy_triples': 16185, 'num_total_triples': 20260}\n"
     ]
    },
    {
     "name": "stderr",
     "output_type": "stream",
     "text": [
      "Retrieving: 100%|██████████| 25/25 [00:55<00:00,  2.24s/it]\n",
      "Collecting QA prompts: 100%|██████████| 25/25 [00:00<00:00, 2220.57it/s]\n",
      "QA Reading: 100%|██████████| 25/25 [01:33<00:00,  3.75s/it]\n",
      "Extraction Answers from LLM Response: 25it [00:00, 131236.05it/s]\n"
     ]
    },
    {
     "name": "stdout",
     "output_type": "stream",
     "text": [
      "major: AM | style: None | Overall retrieval results: {'Recall@1': 0.64, 'Recall@2': 0.8, 'Recall@5': 0.84}\n",
      "major: AM | style: None | Open-end results: {'bleu': '8.61', 'meteor': '32.40', 'rougeL': '39.01'}\n"
     ]
    }
   ],
   "source": [
    "cache_dir = 'outputs/openai_test'  # Define save directory for HippoRAG objects (each LLM/Embedding model combination will create a new subdirectory)\n",
    "save_dir = \"outputs/qa_results\"\n",
    "llm_model_name = 'gpt-4o-mini'  # Any OpenAI model name\n",
    "\n",
    "for major in [\"MCS\", \"DS\", \"AM\"]:\n",
    "    for dataset_style in [None, \"hcmus\"]:\n",
    "        print(f\"Running HippoRAG for major: {major}, dataset style: {dataset_style}\")\n",
    "        for embedding_model_name in [\"text-embedding-3-small\", \"nvidia/NV-Embed-v2\", \"GritLM/GritLM-7B\", \"facebook/contriever\"]:\n",
    "            shutil.rmtree(\"outputs\", ignore_errors=True)\n",
    "\n",
    "            corpus_path = f\"../data/courses_{major}.json\"\n",
    "            with open(corpus_path, \"r\") as f:\n",
    "                corpus = json.load(f)\n",
    "\n",
    "            docs = [f\"{doc['title']}\\n{doc['text']}\" for doc in corpus]\n",
    "\n",
    "            # Startup a HippoRAG instance\n",
    "            hipporag = HippoRAG(save_dir=cache_dir,\n",
    "                                llm_model_name=llm_model_name,\n",
    "                                embedding_model_name=embedding_model_name,\n",
    "                                dataset=dataset_style, ## HippoRAG base\n",
    "                                embedding_batch_size=4\n",
    "                                )\n",
    "\n",
    "            # Run indexing\n",
    "            hipporag.index(docs=docs)\n",
    "            open_end_qa_ds = pd.DataFrame(json.load(open(f\"../data/{major}_opened_end.json\", \"r\")))\n",
    "            queries = open_end_qa_ds[\"question\"].tolist()\n",
    "            references = open_end_qa_ds[\"answer\"].tolist()\n",
    "            gold_docs = [[f\"{item[0]['title']}\\n{item[0]['text']}\"] for item in open_end_qa_ds[\"paragraphs\"].tolist()]\n",
    "\n",
    "            # queries_solutions, all_response_message, all_metadata = hipporag.rag_qa(queries=queries)\n",
    "            queries_solutions, all_response_message, all_metadata, overall_retrieval_result, overall_qa_results = hipporag.rag_qa(\n",
    "                queries=queries,\n",
    "                gold_docs=gold_docs,\n",
    "                gold_answers=references\n",
    "            )\n",
    "            predictions = [item.split(\"Answer: \")[1] for item in all_response_message]\n",
    "\n",
    "            bleu_results = bleu_metric.compute(predictions=predictions, references=references)\n",
    "\n",
    "            rouge_results = rouge_metric.compute(predictions=predictions, references=references)\n",
    "\n",
    "            meteor_results = meteor_metric.compute(predictions=predictions, references=references)\n",
    "\n",
    "            open_end_results = {\n",
    "                \"bleu\": f\"{bleu_results['bleu'] * 100:.2f}\",\n",
    "                \"meteor\": f\"{meteor_results['meteor'] * 100:.2f}\",\n",
    "                \"rougeL\": f\"{rouge_results['rougeL'] * 100:.2f}\",\n",
    "            }\n",
    "            results = {\n",
    "                \"major\": major,\n",
    "                \"dataset_style\": dataset_style,\n",
    "                \"embedding_model_name\": embedding_model_name,\n",
    "                \"graph_info\": hipporag.get_graph_info(),\n",
    "                \"retrieval_results\": overall_retrieval_result,\n",
    "                \"bleu\": open_end_results[\"bleu\"],\n",
    "                \"meteor\": open_end_results[\"meteor\"],\n",
    "                \"rougeL\": open_end_results[\"rougeL\"],\n",
    "            }\n",
    "            ## save results\n",
    "            results_save_path = os.path.join(save_dir, f\"{major}_{dataset_style}_{embedding_model_name.replace('/', '_')}.json\")\n",
    "            os.makedirs(save_dir, exist_ok=True)\n",
    "            with open(results_save_path, \"w\") as f:\n",
    "                json.dump(results, f, indent=4)"
   ]
  }
 ],
 "metadata": {
  "kernelspec": {
   "display_name": "rag",
   "language": "python",
   "name": "rag"
  },
  "language_info": {
   "codemirror_mode": {
    "name": "ipython",
    "version": 3
   },
   "file_extension": ".py",
   "mimetype": "text/x-python",
   "name": "python",
   "nbconvert_exporter": "python",
   "pygments_lexer": "ipython3",
   "version": "3.10.12"
  }
 },
 "nbformat": 4,
 "nbformat_minor": 5
}
