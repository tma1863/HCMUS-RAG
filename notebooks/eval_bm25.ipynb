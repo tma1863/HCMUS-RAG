{
 "cells": [
  {
   "cell_type": "code",
   "execution_count": 1,
   "id": "f6d5f0b9",
   "metadata": {},
   "outputs": [
    {
     "name": "stderr",
     "output_type": "stream",
     "text": [
      "/Users/taindp/miniconda3/envs/hipporag/lib/python3.10/site-packages/tqdm/auto.py:21: TqdmWarning: IProgress not found. Please update jupyter and ipywidgets. See https://ipywidgets.readthedocs.io/en/stable/user_install.html\n",
      "  from .autonotebook import tqdm as notebook_tqdm\n",
      "[nltk_data] Downloading package wordnet to /Users/taindp/nltk_data...\n",
      "[nltk_data]   Package wordnet is already up-to-date!\n",
      "[nltk_data] Downloading package punkt_tab to\n",
      "[nltk_data]     /Users/taindp/nltk_data...\n",
      "[nltk_data]   Package punkt_tab is already up-to-date!\n",
      "[nltk_data] Downloading package omw-1.4 to /Users/taindp/nltk_data...\n",
      "[nltk_data]   Package omw-1.4 is already up-to-date!\n"
     ]
    }
   ],
   "source": [
    "import os\n",
    "from typing import List\n",
    "import json\n",
    "import argparse\n",
    "import logging\n",
    "import pandas as pd\n",
    "from tqdm import tqdm\n",
    "import evaluate\n",
    "# Load the BLEU and ROUGE metrics\n",
    "bleu_metric = evaluate.load(\"bleu\")\n",
    "rouge_metric = evaluate.load(\"rouge\")\n",
    "meteor_metric = evaluate.load('meteor')"
   ]
  },
  {
   "cell_type": "code",
   "execution_count": 2,
   "id": "821b407b",
   "metadata": {},
   "outputs": [],
   "source": [
    "from rank_bm25 import BM25Okapi"
   ]
  },
  {
   "cell_type": "code",
   "execution_count": 3,
   "id": "5d2b0437",
   "metadata": {},
   "outputs": [],
   "source": [
    "def compute_recall_at_k(groundtruths, prediction_ids, k=5):\n",
    "    \"\"\"\n",
    "    groundtruths: list of ground truth labels (length N)\n",
    "    prediction_ids: list of lists, each inner list contains top-k predictions for a sample (length N x k)\n",
    "    k: number of top predictions to consider (default 5)\n",
    "    \"\"\"\n",
    "    correct = 0\n",
    "    total = len(groundtruths)\n",
    "    for gt, preds in zip(groundtruths, prediction_ids):\n",
    "        if gt in preds[:k]:\n",
    "            correct += 1\n",
    "    recall_at_k = correct / total if total > 0 else 0\n",
    "    return recall_at_k"
   ]
  },
  {
   "cell_type": "code",
   "execution_count": 6,
   "id": "2b2161b9",
   "metadata": {},
   "outputs": [
    {
     "name": "stderr",
     "output_type": "stream",
     "text": [
      "100%|██████████| 25/25 [00:00<00:00, 1831.09it/s]"
     ]
    },
    {
     "name": "stdout",
     "output_type": "stream",
     "text": [
      "Recall@5: 0.7600\n"
     ]
    },
    {
     "name": "stderr",
     "output_type": "stream",
     "text": [
      "\n"
     ]
    }
   ],
   "source": [
    "major = \"MCS\"\n",
    "topk = 5\n",
    "corpus_path = f\"../data/courses_{major}.json\"\n",
    "with open(corpus_path, \"r\") as f:\n",
    "    corpus = json.load(f)\n",
    "\n",
    "docs = [f\"{doc['title']}\\n{doc['text']}\" for doc in corpus]\n",
    "\n",
    "tokenized_corpus = [doc.split(\" \") for doc in docs]\n",
    "bm25 = BM25Okapi(tokenized_corpus)\n",
    "open_end_qa_ds = pd.DataFrame(json.load(open(f\"../data/{major}_opened_end.json\", \"r\")))\n",
    "queries = open_end_qa_ds[\"question\"].tolist()\n",
    "references = open_end_qa_ds[\"answer\"].tolist()\n",
    "groundtruths = [item[0][\"title\"] for item in open_end_qa_ds[\"paragraphs\"].tolist()]\n",
    "predictions = [bm25.get_top_n(query.split(\" \"), docs, n=topk) for query in tqdm(queries)]\n",
    "prediction_ids = []\n",
    "for sublist in predictions:\n",
    "    tmp = []\n",
    "    for item in sublist:\n",
    "        tmp.append(item.split(\"\\n\")[0])\n",
    "    prediction_ids.append(tmp)\n",
    "recall = compute_recall_at_k(groundtruths=groundtruths, prediction_ids=prediction_ids, k=topk)\n",
    "print(f\"Recall@5: {recall:.4f}\")"
   ]
  },
  {
   "cell_type": "code",
   "execution_count": null,
   "id": "fb86b9e6",
   "metadata": {},
   "outputs": [],
   "source": []
  }
 ],
 "metadata": {
  "kernelspec": {
   "display_name": "hipporag",
   "language": "python",
   "name": "python3"
  },
  "language_info": {
   "codemirror_mode": {
    "name": "ipython",
    "version": 3
   },
   "file_extension": ".py",
   "mimetype": "text/x-python",
   "name": "python",
   "nbconvert_exporter": "python",
   "pygments_lexer": "ipython3",
   "version": "3.10.16"
  }
 },
 "nbformat": 4,
 "nbformat_minor": 5
}
